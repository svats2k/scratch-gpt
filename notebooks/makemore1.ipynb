{
 "cells": [
  {
   "cell_type": "code",
   "execution_count": 1,
   "id": "4d5add4a-889e-48ea-8583-c7a6b8b6df86",
   "metadata": {},
   "outputs": [],
   "source": [
    "from pathlib import Path"
   ]
  },
  {
   "cell_type": "code",
   "execution_count": 3,
   "id": "f4512d67-141e-4fbf-9d6d-8ef2d0f5a39e",
   "metadata": {},
   "outputs": [],
   "source": [
    "words = Path(\"names.txt\").read_text().splitlines()"
   ]
  }
 ],
 "metadata": {
  "kernelspec": {
   "display_name": "Python 3 (ipykernel)",
   "language": "python",
   "name": "python3"
  },
  "language_info": {
   "codemirror_mode": {
    "name": "ipython",
    "version": 3
   },
   "file_extension": ".py",
   "mimetype": "text/x-python",
   "name": "python",
   "nbconvert_exporter": "python",
   "pygments_lexer": "ipython3",
   "version": "3.9.16"
  }
 },
 "nbformat": 4,
 "nbformat_minor": 5
}
