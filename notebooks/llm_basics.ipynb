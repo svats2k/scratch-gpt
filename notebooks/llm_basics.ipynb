{
 "cells": [
  {
   "cell_type": "code",
   "execution_count": 2,
   "id": "e76ab10b-93be-486f-bda6-4f7473a87318",
   "metadata": {},
   "outputs": [],
   "source": [
    "import os\n",
    "import requests"
   ]
  },
  {
   "cell_type": "code",
   "execution_count": 7,
   "id": "ef3c2781-9dd4-4a09-9ace-85b992cd0251",
   "metadata": {},
   "outputs": [],
   "source": [
    "url = \"https://github.com/hwchase17/langchain/blob/master/docs/modules/state_of_the_union.txt\"\n",
    "res = requests.get(url)\n",
    "with open(\"state_of_union.txt\", \"w\") as f:\n",
    "          f.write(res.text)"
   ]
  },
  {
   "cell_type": "code",
   "execution_count": 10,
   "id": "a94dd11b-09f3-48aa-86e7-1699d1fbb221",
   "metadata": {},
   "outputs": [],
   "source": [
    "from langchain.document_loaders import TextLoader\n",
    "loader = TextLoader(\"state_of_union.txt\")\n",
    "documents = loader.load()"
   ]
  },
  {
   "cell_type": "code",
   "execution_count": 13,
   "id": "619a2a73-6620-4c2c-9dae-f7464901b49e",
   "metadata": {
    "collapsed": true,
    "jupyter": {
     "outputs_hidden": true
    },
    "tags": []
   },
   "outputs": [
    {
     "name": "stderr",
     "output_type": "stream",
     "text": [
      "Created a chunk of size 2218, which is longer than the specified 1000\n",
      "Created a chunk of size 16509, which is longer than the specified 1000\n",
      "Created a chunk of size 8354, which is longer than the specified 1000\n",
      "Created a chunk of size 1968, which is longer than the specified 1000\n",
      "Created a chunk of size 1155, which is longer than the specified 1000\n",
      "Created a chunk of size 2605, which is longer than the specified 1000\n",
      "Created a chunk of size 1133, which is longer than the specified 1000\n",
      "Created a chunk of size 1238, which is longer than the specified 1000\n",
      "Created a chunk of size 1339, which is longer than the specified 1000\n",
      "Created a chunk of size 2685, which is longer than the specified 1000\n",
      "Created a chunk of size 1324, which is longer than the specified 1000\n",
      "Created a chunk of size 1414, which is longer than the specified 1000\n",
      "Created a chunk of size 1563, which is longer than the specified 1000\n",
      "Created a chunk of size 1576, which is longer than the specified 1000\n",
      "Created a chunk of size 2167, which is longer than the specified 1000\n",
      "Created a chunk of size 2164, which is longer than the specified 1000\n",
      "Created a chunk of size 2177, which is longer than the specified 1000\n",
      "Created a chunk of size 2189, which is longer than the specified 1000\n",
      "Created a chunk of size 2177, which is longer than the specified 1000\n",
      "Created a chunk of size 1003, which is longer than the specified 1000\n",
      "Created a chunk of size 1225, which is longer than the specified 1000\n",
      "Created a chunk of size 1303, which is longer than the specified 1000\n",
      "Created a chunk of size 1444, which is longer than the specified 1000\n",
      "Created a chunk of size 1359, which is longer than the specified 1000\n",
      "Created a chunk of size 2319, which is longer than the specified 1000\n",
      "Created a chunk of size 1571, which is longer than the specified 1000\n",
      "Created a chunk of size 1257, which is longer than the specified 1000\n",
      "Created a chunk of size 1548, which is longer than the specified 1000\n",
      "Created a chunk of size 1750, which is longer than the specified 1000\n",
      "Created a chunk of size 1282, which is longer than the specified 1000\n",
      "Created a chunk of size 1411, which is longer than the specified 1000\n",
      "Created a chunk of size 1720, which is longer than the specified 1000\n",
      "Created a chunk of size 1451, which is longer than the specified 1000\n",
      "Created a chunk of size 3624, which is longer than the specified 1000\n",
      "Created a chunk of size 1483, which is longer than the specified 1000\n",
      "Created a chunk of size 1657, which is longer than the specified 1000\n",
      "Created a chunk of size 3194, which is longer than the specified 1000\n",
      "Created a chunk of size 2776, which is longer than the specified 1000\n",
      "Created a chunk of size 202226, which is longer than the specified 1000\n",
      "Created a chunk of size 1309, which is longer than the specified 1000\n",
      "Created a chunk of size 2818, which is longer than the specified 1000\n",
      "Created a chunk of size 1168, which is longer than the specified 1000\n",
      "Created a chunk of size 1920, which is longer than the specified 1000\n",
      "Created a chunk of size 2767, which is longer than the specified 1000\n"
     ]
    }
   ],
   "source": [
    "from langchain.text_splitter import CharacterTextSplitter\n",
    "text_splitter = CharacterTextSplitter(chunk_size=1000, chunk_overlap=0)\n",
    "docs = text_splitter.split_documents(documents)"
   ]
  },
  {
   "cell_type": "code",
   "execution_count": 14,
   "id": "40f2da20-e1a0-4f39-9cf9-39639002b42d",
   "metadata": {},
   "outputs": [
    {
     "data": {
      "text/plain": [
       "127"
      ]
     },
     "execution_count": 14,
     "metadata": {},
     "output_type": "execute_result"
    }
   ],
   "source": [
    "len(docs)"
   ]
  },
  {
   "cell_type": "code",
   "execution_count": 16,
   "id": "fc2c5578-7081-49d1-bf50-f88658d2038e",
   "metadata": {
    "collapsed": true,
    "jupyter": {
     "outputs_hidden": true
    },
    "tags": []
   },
   "outputs": [
    {
     "name": "stderr",
     "output_type": "stream",
     "text": [
      "/home/srivatsas/work/repos/personal/scratch-gpt.git/branches_wip/main/venv/lib/python3.9/site-packages/tqdm/auto.py:21: TqdmWarning: IProgress not found. Please update jupyter and ipywidgets. See https://ipywidgets.readthedocs.io/en/stable/user_install.html\n",
      "  from .autonotebook import tqdm as notebook_tqdm\n",
      "Downloading (…)a8e1d/.gitattributes: 100%|████████████████████████████████████████████████████████████████████████████████████████████████| 1.18k/1.18k [00:00<00:00, 102kB/s]\n",
      "Downloading (…)_Pooling/config.json: 100%|███████████████████████████████████████████████████████████████████████████████████████████████████| 190/190 [00:00<00:00, 19.2kB/s]\n",
      "Downloading (…)b20bca8e1d/README.md: 100%|███████████████████████████████████████████████████████████████████████████████████████████████| 10.6k/10.6k [00:00<00:00, 6.03MB/s]\n",
      "Downloading (…)0bca8e1d/config.json: 100%|████████████████████████████████████████████████████████████████████████████████████████████████████| 571/571 [00:00<00:00, 351kB/s]\n",
      "Downloading (…)ce_transformers.json: 100%|███████████████████████████████████████████████████████████████████████████████████████████████████| 116/116 [00:00<00:00, 73.9kB/s]\n",
      "Downloading (…)e1d/data_config.json: 100%|███████████████████████████████████████████████████████████████████████████████████████████████| 39.3k/39.3k [00:00<00:00, 17.0MB/s]\n",
      "Downloading pytorch_model.bin: 100%|███████████████████████████████████████████████████████████████████████████████████████████████████████| 438M/438M [00:10<00:00, 41.8MB/s]\n",
      "Downloading (…)nce_bert_config.json: 100%|█████████████████████████████████████████████████████████████████████████████████████████████████| 53.0/53.0 [00:00<00:00, 8.18kB/s]\n",
      "Downloading (…)cial_tokens_map.json: 100%|████████████████████████████████████████████████████████████████████████████████████████████████████| 239/239 [00:00<00:00, 135kB/s]\n",
      "Downloading (…)a8e1d/tokenizer.json: 100%|█████████████████████████████████████████████████████████████████████████████████████████████████| 466k/466k [00:00<00:00, 1.08MB/s]\n",
      "Downloading (…)okenizer_config.json: 100%|████████████████████████████████████████████████████████████████████████████████████████████████████| 363/363 [00:00<00:00, 878kB/s]\n",
      "Downloading (…)8e1d/train_script.py: 100%|███████████████████████████████████████████████████████████████████████████████████████████████| 13.1k/13.1k [00:00<00:00, 28.9MB/s]\n",
      "Downloading (…)b20bca8e1d/vocab.txt: 100%|██████████████████████████████████████████████████████████████████████████████████████████████████| 232k/232k [00:00<00:00, 530kB/s]\n",
      "Downloading (…)bca8e1d/modules.json: 100%|████████████████████████████████████████████████████████████████████████████████████████████████████| 349/349 [00:00<00:00, 207kB/s]\n"
     ]
    }
   ],
   "source": [
    "from langchain.embeddings import HuggingFaceEmbeddings\n",
    "\n",
    "embeddings = HuggingFaceEmbeddings()"
   ]
  },
  {
   "cell_type": "code",
   "execution_count": 17,
   "id": "b4cb01bd-e640-4c42-8be1-5566630769a3",
   "metadata": {},
   "outputs": [],
   "source": [
    "from langchain.vectorstores import FAISS\n",
    "\n",
    "db = FAISS.from_documents(docs, embeddings)"
   ]
  }
 ],
 "metadata": {
  "kernelspec": {
   "display_name": "Python 3 (ipykernel)",
   "language": "python",
   "name": "python3"
  },
  "language_info": {
   "codemirror_mode": {
    "name": "ipython",
    "version": 3
   },
   "file_extension": ".py",
   "mimetype": "text/x-python",
   "name": "python",
   "nbconvert_exporter": "python",
   "pygments_lexer": "ipython3",
   "version": "3.9.16"
  }
 },
 "nbformat": 4,
 "nbformat_minor": 5
}
